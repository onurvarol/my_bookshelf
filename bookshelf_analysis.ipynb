{
 "cells": [
  {
   "cell_type": "code",
   "execution_count": 1,
   "metadata": {
    "ExecuteTime": {
     "end_time": "2020-01-04T21:19:47.330090Z",
     "start_time": "2020-01-04T21:19:46.252418Z"
    }
   },
   "outputs": [
    {
     "name": "stdout",
     "output_type": "stream",
     "text": [
      "Populating the interactive namespace from numpy and matplotlib\n"
     ]
    }
   ],
   "source": [
    "%pylab inline\n",
    "import os, sys\n",
    "from datetime import datetime\n",
    "from dateutil.relativedelta import relativedelta\n",
    "import json\n",
    "import numpy as np\n",
    "import matplotlib.pylab as plt\n",
    "import matplotlib.dates as mdates\n",
    "\n",
    "import pandas as pd"
   ]
  },
  {
   "cell_type": "code",
   "execution_count": 2,
   "metadata": {
    "ExecuteTime": {
     "end_time": "2020-01-04T21:19:47.352395Z",
     "start_time": "2020-01-04T21:19:47.335753Z"
    }
   },
   "outputs": [
    {
     "name": "stdout",
     "output_type": "stream",
     "text": [
      "347 books read\n"
     ]
    }
   ],
   "source": [
    "bookshelf = json.loads(open('docs/bookshelf.json','r').read())['books']\n",
    "count = 0\n",
    "for b in bookshelf:\n",
    "    if '(' in b['name'] and ')' in b['name']:\n",
    "        #print b['name']#.split('(')[-1].split(')')[0]\n",
    "        count += int(b['name'].split('(')[-1].split(')')[0])\n",
    "    else:\n",
    "        count += 1\n",
    "print (count, 'books read')"
   ]
  },
  {
   "cell_type": "code",
   "execution_count": 7,
   "metadata": {
    "ExecuteTime": {
     "end_time": "2020-01-04T21:20:38.851170Z",
     "start_time": "2020-01-04T21:20:38.808911Z"
    }
   },
   "outputs": [
    {
     "name": "stdout",
     "output_type": "stream",
     "text": [
      "2006-06 1\n",
      "2006-07 1\n",
      "2007-01 2\n",
      "2007-04 1\n",
      "2007-06 1\n",
      "2007-07 2\n",
      "2007-09 3\n",
      "2007-10 1\n",
      "2007-12 1\n",
      "2008-05 1\n",
      "2008-06 2\n",
      "2008-07 5\n",
      "2008-08 2\n",
      "2008-10 2\n",
      "2008-11 2\n",
      "2009-01 2\n",
      "2009-03 1\n",
      "2009-04 2\n",
      "2009-05 2\n",
      "2009-06 3\n",
      "2009-07 1\n",
      "2009-08 1\n",
      "2009-09 3\n",
      "2009-11 2\n",
      "2009-12 2\n",
      "2010-02 4\n",
      "2010-03 2\n",
      "2010-04 1\n",
      "2010-05 1\n",
      "2010-07 2\n",
      "2010-08 1\n",
      "2010-09 4\n",
      "2010-10 1\n",
      "2010-11 1\n",
      "2011-02 1\n",
      "2011-03 3\n",
      "2011-04 2\n",
      "2011-05 3\n",
      "2011-06 4\n",
      "2011-07 1\n",
      "2011-08 7\n",
      "2011-09 7\n",
      "2011-11 2\n",
      "2011-12 2\n",
      "2012-01 4\n",
      "2012-02 2\n",
      "2012-03 1\n",
      "2012-05 1\n",
      "2012-08 2\n",
      "2012-09 1\n",
      "2012-10 2\n",
      "2012-11 1\n",
      "2013-01 2\n",
      "2013-02 3\n",
      "2013-03 2\n",
      "2013-05 1\n",
      "2013-07 2\n",
      "2013-08 1\n",
      "2013-12 1\n",
      "2014-03 1\n",
      "2014-04 3\n",
      "2014-05 4\n",
      "2014-06 3\n",
      "2014-07 3\n",
      "2014-08 4\n",
      "2014-12 4\n",
      "2015-01 2\n",
      "2015-02 4\n",
      "2015-03 3\n",
      "2015-04 1\n",
      "2015-06 3\n",
      "2015-07 1\n",
      "2015-10 3\n",
      "2015-11 4\n",
      "2015-12 4\n",
      "2016-01 3\n",
      "2016-02 1\n",
      "2016-05 3\n",
      "2016-06 5\n",
      "2016-07 6\n",
      "2016-08 2\n",
      "2016-09 2\n",
      "2016-10 5\n",
      "2016-11 5\n",
      "2016-12 2\n",
      "2017-01 5\n",
      "2017-02 1\n",
      "2017-04 1\n",
      "2017-05 3\n",
      "2017-06 3\n",
      "2017-07 1\n",
      "2017-08 2\n",
      "2017-09 3\n",
      "2017-10 2\n",
      "2017-11 3\n",
      "2017-12 4\n",
      "2018-01 3\n",
      "2018-02 1\n",
      "2018-04 2\n",
      "2018-07 1\n",
      "2018-10 1\n",
      "2018-12 2\n",
      "2019-01 2\n",
      "2019-02 2\n",
      "2019-04 1\n",
      "2019-06 1\n",
      "2019-07 2\n",
      "2019-11 2\n",
      "2019-12 3\n",
      "2020-01 2\n"
     ]
    }
   ],
   "source": [
    "monthly = dict()\n",
    "monthlyA, monthlyB = dict(), dict()\n",
    "for b in bookshelf:\n",
    "    if len(b['date'].split('-')) < 2:\n",
    "        continue\n",
    "    dstr = '-'.join(b['date'].split('-')[:2])\n",
    "    if dstr not in monthly:\n",
    "        monthly[dstr] = 0\n",
    "        monthlyA[dstr] = 0\n",
    "        monthlyB[dstr] = 0\n",
    "        \n",
    "    if '(' in b['name'] and ')' in b['name']:\n",
    "        #print b['name']#.split('(')[-1].split(')')[0]\n",
    "        nBook = int(b['name'].split('(')[-1].split(')')[0])\n",
    "        monthly[dstr] += nBook\n",
    "        if 'audio' in b:\n",
    "            monthlyA[dstr] += nBook\n",
    "        else:\n",
    "            monthlyB[dstr] += nBook\n",
    "    else:\n",
    "        monthly[dstr] += 1\n",
    "        if 'audio' in b:\n",
    "            monthlyA[dstr] += 1\n",
    "        else:\n",
    "            monthlyB[dstr] += 1\n",
    "            \n",
    "#print (monthly, sum(monthly.values()))\n",
    "for m in sorted(monthly):\n",
    "    print(m, monthly[m])"
   ]
  },
  {
   "cell_type": "code",
   "execution_count": 4,
   "metadata": {
    "ExecuteTime": {
     "end_time": "2020-01-04T21:19:48.846431Z",
     "start_time": "2020-01-04T21:19:47.387935Z"
    }
   },
   "outputs": [
    {
     "name": "stderr",
     "output_type": "stream",
     "text": [
      "/Users/onurvarol/anaconda/lib/python3.6/site-packages/pandas/plotting/_converter.py:129: FutureWarning: Using an implicitly registered datetime converter for a matplotlib plotting method. The converter was registered by pandas on import. Future versions of pandas will require you to explicitly register matplotlib converters.\n",
      "\n",
      "To register the converters:\n",
      "\t>>> from pandas.plotting import register_matplotlib_converters\n",
      "\t>>> register_matplotlib_converters()\n",
      "  warnings.warn(msg, FutureWarning)\n",
      "/Users/onurvarol/anaconda/lib/python3.6/site-packages/ipykernel_launcher.py:6: UserWarning: In Matplotlib 3.3 individual lines on a stem plot will be added as a LineCollection instead of individual lines. This significantly improves the performance of a stem plot. To remove this warning and switch to the new behaviour, set the \"use_line_collection\" keyword argument to True.\n",
      "  \n"
     ]
    },
    {
     "data": {
      "image/png": "[encoded data removed]",
      "text/plain": [
       "<Figure size 864x216 with 1 Axes>"
      ]
     },
     "metadata": {},
     "output_type": "display_data"
    }
   ],
   "source": [
    "mSorted = sorted(monthly.keys())\n",
    "#for m in mSorted:\n",
    "#    print m, monthly[m], datetime.strptime(m, '%Y-%m')\n",
    "    \n",
    "fig = plt.figure(figsize=(12,3))\n",
    "plt.stem([datetime.strptime(m, '%Y-%m') for m in mSorted], [monthly[m] for m in mSorted])\n",
    "plt.ylim(ymax=max(monthly.values())+1)\n",
    "plt.xlim(xmin=datetime.strptime(mSorted[0], '%Y-%m') + relativedelta(months=-2), \n",
    "         xmax=datetime.strptime(mSorted[-1], '%Y-%m') + relativedelta(months=+2))\n",
    "\n",
    "sDate = datetime.strptime(mSorted[0], '%Y-%m') + relativedelta(months=-1)\n",
    "eDate = datetime.strptime(mSorted[-1], '%Y-%m') + relativedelta(months=+1)\n",
    "while sDate < eDate:\n",
    "    temp = sDate + relativedelta(months=+1)\n",
    "    cval = 1-abs(sDate.month-6)/6.0\n",
    "    plt.axvspan(sDate, temp, facecolor=plt.cm.rainbow(cval),#'{}'.format(), \n",
    "                edgecolor='none',alpha=0.35)\n",
    "    sDate = temp\n",
    "\n",
    "plt.ylabel('# of books per month', fontsize=14)\n",
    "plt.tick_params(labelsize=12)\n",
    "plt.savefig('docs/reading_monthly_freq_stem.png', bbox_inches='tight', dpi=300, transparent=True)"
   ]
  },
  {
   "cell_type": "code",
   "execution_count": 5,
   "metadata": {
    "ExecuteTime": {
     "end_time": "2020-01-04T21:19:50.426920Z",
     "start_time": "2020-01-04T21:19:48.855389Z"
    }
   },
   "outputs": [
    {
     "data": {
      "image/png": "[encoded data removed]",
      "text/plain": [
       "<Figure size 864x216 with 1 Axes>"
      ]
     },
     "metadata": {},
     "output_type": "display_data"
    }
   ],
   "source": [
    "fig = plt.figure(figsize=(12,3))\n",
    "mSorted = sorted(monthly.keys())\n",
    "sDate = datetime.strptime(mSorted[0], '%Y-%m') + relativedelta(months=-2)\n",
    "eDate = datetime.strptime(mSorted[-1], '%Y-%m') + relativedelta(months=+2)\n",
    "while sDate < eDate:\n",
    "    temp = sDate + relativedelta(months=+1)\n",
    "    cval = 1-abs(sDate.month-6)/6.0\n",
    "    plt.axvspan(sDate, temp, facecolor=plt.cm.gray(cval),#'{}'.format(), \n",
    "                edgecolor='none',alpha=0.35)\n",
    "    sDate = temp\n",
    "\n",
    "mSorted = [m for m in sorted(monthly.keys()) if monthly[m]>0]\n",
    "plt.bar([datetime.strptime(m, '%Y-%m') for m in mSorted], \n",
    "        [monthly[m] for m in mSorted], label='Book', \n",
    "        width = 15, linewidth=0, color='b')\n",
    "\n",
    "plt.xlim(xmin=datetime.strptime(mSorted[0], '%Y-%m') + relativedelta(months=-2), \n",
    "         xmax=datetime.strptime(mSorted[-1], '%Y-%m') + relativedelta(months=+2))\n",
    "plt.ylabel('# of books per month', fontsize=14)\n",
    "plt.tick_params(labelsize=12)\n",
    "plt.savefig('docs/reading_monthly_freq.png', bbox_inches='tight', dpi=300, transparent=True)"
   ]
  },
  {
   "cell_type": "code",
   "execution_count": 6,
   "metadata": {
    "ExecuteTime": {
     "end_time": "2020-01-04T21:19:51.821748Z",
     "start_time": "2020-01-04T21:19:50.429280Z"
    }
   },
   "outputs": [
    {
     "data": {
      "image/png": "[encoded data removed]",
      "text/plain": [
       "<Figure size 864x216 with 1 Axes>"
      ]
     },
     "metadata": {},
     "output_type": "display_data"
    }
   ],
   "source": [
    "fig = plt.figure(figsize=(12,3))\n",
    "mSorted = sorted(monthly.keys())\n",
    "sDate = datetime.strptime(mSorted[0], '%Y-%m') + relativedelta(months=-2)\n",
    "eDate = datetime.strptime(mSorted[-1], '%Y-%m') + relativedelta(months=+2)\n",
    "while sDate < eDate:\n",
    "    temp = sDate + relativedelta(months=+1)\n",
    "    cval = 1-abs(sDate.month-6)/6.0\n",
    "    plt.axvspan(sDate, temp, facecolor=plt.cm.gray(cval),#'{}'.format(), \n",
    "                edgecolor='none',alpha=0.35)\n",
    "    sDate = temp\n",
    "\n",
    "mSorted = [m for m in sorted(monthlyB.keys()) if monthlyB[m]>0]\n",
    "plt.bar([datetime.strptime(m, '%Y-%m') for m in mSorted], \n",
    "        [monthlyB[m] for m in mSorted], label='Book', \n",
    "        width = 15, linewidth=0, color='b')\n",
    "\n",
    "mSortedA = [m for m in sorted(monthlyA.keys()) if monthlyA[m]>0]\n",
    "plt.bar([datetime.strptime(m, '%Y-%m') for m in mSortedA], \n",
    "        [monthlyA[m] for m in mSortedA],\n",
    "        bottom=[monthlyB.get(m,0) for m in mSortedA],\n",
    "        label='Audio', linewidth=0, color='r', width=15)\n",
    "plt.xlim(xmin=datetime.strptime(mSorted[0], '%Y-%m') + relativedelta(months=-2), \n",
    "         xmax=datetime.strptime(mSorted[-1], '%Y-%m') + relativedelta(months=+2))\n",
    "plt.ylabel('# of books per month', fontsize=14)\n",
    "plt.tick_params(labelsize=12)\n",
    "plt.legend(loc='upper left')\n",
    "plt.savefig('docs/reading_monthly_freq_waudio.png', bbox_inches='tight', dpi=300, transparent=True)"
   ]
  },
  {
   "cell_type": "code",
   "execution_count": 7,
   "metadata": {
    "ExecuteTime": {
     "end_time": "2019-11-06T04:16:57.927786Z",
     "start_time": "2019-11-06T04:16:57.912294Z"
    }
   },
   "outputs": [
    {
     "name": "stdout",
     "output_type": "stream",
     "text": [
      "Gulten Dayioglu 15\n",
      "Margaret Weis &amp; Tracy Hickman 11\n",
      "Stephen King 10\n",
      "Paulo Coelho 7\n",
      "J.K. Rowling 7\n",
      "Rifat Ilgaz 6\n",
      "Jules Verne 5\n",
      "Christopher Grange 5\n",
      "Cixin Liu 4\n",
      "Stanislaw Lem 4\n",
      "L. Frank Baum 4\n",
      "Amin Maalouf 4\n",
      "Sigmund Freud 4\n",
      "Bernard Werber 4\n",
      "Dan Brown 4\n",
      "Ursula K. LeGuin 3\n",
      "Can Dundar 3\n",
      "Roger Penrose 3\n",
      "Irvine Yalom 3\n",
      "Aldoux Huxley 3\n"
     ]
    }
   ],
   "source": [
    "authorCount = dict()\n",
    "\n",
    "for b in bookshelf:\n",
    "    if b['author'] not in authorCount:\n",
    "        authorCount[b['author']] = 0\n",
    "    \n",
    "    if '(' in b['name'] and ')' in b['name']:\n",
    "        #print b['name']#.split('(')[-1].split(')')[0]\n",
    "        authorCount[b['author']] += int(b['name'].split('(')[-1].split(')')[0])\n",
    "    else:\n",
    "        authorCount[b['author']] += 1\n",
    "\n",
    "for a in sorted(authorCount, key=authorCount.get, reverse=True)[:20]:\n",
    "    print (a, authorCount[a])"
   ]
  },
  {
   "cell_type": "code",
   "execution_count": 8,
   "metadata": {
    "ExecuteTime": {
     "end_time": "2019-11-06T04:16:58.125058Z",
     "start_time": "2019-11-06T04:16:57.937608Z"
    }
   },
   "outputs": [
    {
     "name": "stdout",
     "output_type": "stream",
     "text": [
      "87\n",
      "[datetime.datetime(2009, 5, 20, 0, 0), datetime.datetime(2015, 1, 23, 0, 0), datetime.datetime(2015, 12, 9, 0, 0), datetime.datetime(2015, 12, 25, 0, 0), datetime.datetime(2015, 12, 26, 0, 0), datetime.datetime(2015, 12, 30, 0, 0), datetime.datetime(2016, 1, 15, 0, 0), datetime.datetime(2016, 1, 18, 0, 0), datetime.datetime(2016, 1, 30, 0, 0), datetime.datetime(2016, 2, 7, 0, 0), datetime.datetime(2016, 5, 13, 0, 0), datetime.datetime(2016, 5, 16, 0, 0), datetime.datetime(2016, 5, 20, 0, 0), datetime.datetime(2016, 6, 5, 0, 0), datetime.datetime(2016, 6, 15, 0, 0), datetime.datetime(2016, 6, 16, 0, 0), datetime.datetime(2016, 6, 17, 0, 0), datetime.datetime(2016, 6, 30, 0, 0), datetime.datetime(2016, 7, 5, 0, 0), datetime.datetime(2016, 7, 8, 0, 0), datetime.datetime(2016, 7, 11, 0, 0), datetime.datetime(2016, 7, 15, 0, 0), datetime.datetime(2016, 7, 21, 0, 0), datetime.datetime(2016, 7, 24, 0, 0), datetime.datetime(2016, 8, 9, 0, 0), datetime.datetime(2016, 8, 18, 0, 0), datetime.datetime(2016, 9, 12, 0, 0), datetime.datetime(2016, 9, 22, 0, 0), datetime.datetime(2016, 10, 8, 0, 0), datetime.datetime(2016, 10, 14, 0, 0), datetime.datetime(2016, 10, 21, 0, 0), datetime.datetime(2016, 10, 27, 0, 0), datetime.datetime(2016, 10, 28, 0, 0), datetime.datetime(2016, 11, 1, 0, 0), datetime.datetime(2016, 11, 4, 0, 0), datetime.datetime(2016, 11, 11, 0, 0), datetime.datetime(2016, 11, 12, 0, 0), datetime.datetime(2016, 11, 26, 0, 0), datetime.datetime(2016, 12, 5, 0, 0), datetime.datetime(2016, 12, 30, 0, 0), datetime.datetime(2017, 1, 6, 0, 0), datetime.datetime(2017, 1, 14, 0, 0), datetime.datetime(2017, 1, 19, 0, 0), datetime.datetime(2017, 1, 21, 0, 0), datetime.datetime(2017, 1, 22, 0, 0), datetime.datetime(2017, 2, 8, 0, 0), datetime.datetime(2017, 4, 29, 0, 0), datetime.datetime(2017, 5, 6, 0, 0), datetime.datetime(2017, 5, 14, 0, 0), datetime.datetime(2017, 5, 17, 0, 0), datetime.datetime(2017, 6, 6, 0, 0), datetime.datetime(2017, 6, 14, 0, 0), datetime.datetime(2017, 6, 29, 0, 0), datetime.datetime(2017, 7, 26, 0, 0), datetime.datetime(2017, 8, 1, 0, 0), datetime.datetime(2017, 8, 17, 0, 0), datetime.datetime(2017, 9, 4, 0, 0), datetime.datetime(2017, 9, 19, 0, 0), datetime.datetime(2017, 9, 25, 0, 0), datetime.datetime(2017, 10, 5, 0, 0), datetime.datetime(2017, 10, 13, 0, 0), datetime.datetime(2017, 11, 2, 0, 0), datetime.datetime(2017, 11, 11, 0, 0), datetime.datetime(2017, 11, 20, 0, 0), datetime.datetime(2017, 12, 8, 0, 0), datetime.datetime(2017, 12, 16, 0, 0), datetime.datetime(2017, 12, 22, 0, 0), datetime.datetime(2017, 12, 25, 0, 0), datetime.datetime(2018, 1, 1, 0, 0), datetime.datetime(2018, 1, 20, 0, 0), datetime.datetime(2018, 1, 23, 0, 0), datetime.datetime(2018, 2, 4, 0, 0), datetime.datetime(2018, 4, 11, 0, 0), datetime.datetime(2018, 4, 26, 0, 0), datetime.datetime(2018, 7, 26, 0, 0), datetime.datetime(2018, 10, 6, 0, 0), datetime.datetime(2018, 12, 10, 0, 0), datetime.datetime(2018, 12, 27, 0, 0), datetime.datetime(2019, 1, 3, 0, 0), datetime.datetime(2019, 1, 13, 0, 0), datetime.datetime(2019, 2, 6, 0, 0), datetime.datetime(2019, 2, 26, 0, 0), datetime.datetime(2019, 4, 28, 0, 0), datetime.datetime(2019, 6, 14, 0, 0), datetime.datetime(2019, 7, 7, 0, 0), datetime.datetime(2019, 7, 29, 0, 0), datetime.datetime(2019, 11, 5, 0, 0)]\n",
      "[2074, 320, 16, 1, 4, 16, 3, 12, 8, 96, 3, 4, 16, 10, 1, 1, 13, 5, 3, 3, 4, 6, 3, 16, 9, 25, 10, 16, 6, 7, 6, 1, 4, 3, 7, 1, 14, 9, 25, 7, 8, 5, 2, 1, 17, 80, 7, 8, 3, 20, 8, 15, 27, 6, 16, 18, 15, 6, 10, 8, 20, 9, 9, 18, 8, 6, 3, 7, 19, 3, 12, 66, 15, 91, 72, 65, 17, 7, 10, 24, 20, 61, 47, 23, 22, 99]\n"
     ]
    },
    {
     "data": {
      "text/plain": [
       "(array([20., 20., 10., 11.,  5.,  5.,  4.,  0.,  0.,  0.,  0.,  0.,  1.,\n",
       "         0.,  0.,  1.,  1.,  1.,  1.,  0.,  1.,  0.,  0.,  1.,  1.]),\n",
       " array([ 1. ,  4.8,  8.6, 12.4, 16.2, 20. , 23.8, 27.6, 31.4, 35.2, 39. ,\n",
       "        42.8, 46.6, 50.4, 54.2, 58. , 61.8, 65.6, 69.4, 73.2, 77. , 80.8,\n",
       "        84.6, 88.4, 92.2, 96. ]),\n",
       " <a list of 25 Patch objects>)"
      ]
     },
     "execution_count": 8,
     "metadata": {},
     "output_type": "execute_result"
    },
    {
     "data": {
      "image/png": "[encoded data removed]",
      "text/plain": [
       "<Figure size 288x288 with 1 Axes>"
      ]
     },
     "metadata": {},
     "output_type": "display_data"
    }
   ],
   "source": [
    "# Inter-event time for finishing books\n",
    "readDates = list()\n",
    "for b in bookshelf:\n",
    "    if len(b['date'].split('-')) < 3:\n",
    "        continue\n",
    "    readDates.append(datetime.strptime(b['date'], '%Y-%m-%d'))\n",
    "print(len(readDates))\n",
    "\n",
    "sortedDates = sorted(readDates)\n",
    "print (sortedDates)\n",
    "tdiff = [(sortedDates[i]-sortedDates[i-1]).days for i in range(1, len(sortedDates))]\n",
    "print (tdiff)\n",
    "\n",
    "plt.figure(figsize=(4,4))\n",
    "plt.hist(sorted(tdiff)[:-3], bins=25)"
   ]
  },
  {
   "cell_type": "code",
   "execution_count": null,
   "metadata": {
    "collapsed": true
   },
   "outputs": [],
   "source": []
  },
  {
   "cell_type": "code",
   "execution_count": null,
   "metadata": {
    "collapsed": true
   },
   "outputs": [],
   "source": []
  }
 ],
 "metadata": {
  "kernelspec": {
   "display_name": "Python 3",
   "language": "python",
   "name": "python3"
  },
  "language_info": {
   "codemirror_mode": {
    "name": "ipython",
    "version": 3
   },
   "file_extension": ".py",
   "mimetype": "text/x-python",
   "name": "python",
   "nbconvert_exporter": "python",
   "pygments_lexer": "ipython3",
   "version": "3.6.6"
  }
 },
 "nbformat": 4,
 "nbformat_minor": 1
}
